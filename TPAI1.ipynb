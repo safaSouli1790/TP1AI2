{
 "cells": [
  {
   "cell_type": "code",
   "execution_count": 1,
   "id": "8fb4b345-b675-46f9-859f-5b7672bb77a8",
   "metadata": {},
   "outputs": [
    {
     "name": "stdout",
     "output_type": "stream",
     "text": [
      "Votre âge est : 25\n"
     ]
    }
   ],
   "source": [
    "# Definition: Variables are used to store and manage data in a program.\n",
    "age = 25\n",
    "print(\"Votre âge est :\", age)"
   ]
  },
  {
   "cell_type": "code",
   "execution_count": 2,
   "id": "04a23178-2043-4d87-a8f7-64a343aeb565",
   "metadata": {},
   "outputs": [
    {
     "name": "stdout",
     "output_type": "stream",
     "text": [
      "You are an adult.\n"
     ]
    }
   ],
   "source": [
    "# Definition: Conditions are used to make decisions in a program.\n",
    "age = 25\n",
    "if age >= 18:\n",
    "    print(\"You are an adult.\")\n",
    "else:\n",
    "    print(\"You are a minor.\")"
   ]
  },
  {
   "cell_type": "code",
   "execution_count": 3,
   "id": "07f4dac7-a00d-45a6-9ed0-9626a820e084",
   "metadata": {},
   "outputs": [
    {
     "name": "stdout",
     "output_type": "stream",
     "text": [
      "pomme\n",
      "banane\n",
      "orange\n",
      "1\n",
      "2\n",
      "3\n",
      "4\n",
      "5\n"
     ]
    }
   ],
   "source": [
    "# Boucle for pour itérer sur une liste\n",
    "fruits = [\"pomme\", \"banane\", \"orange\"]\n",
    "for fruit in fruits:\n",
    "    print(fruit)\n",
    "\n",
    "# Boucle while pour exécuter un bloc de code tant qu'une condition est vraie\n",
    "num = 1\n",
    "while num <= 5:\n",
    "    print(num)\n",
    "    num += 1"
   ]
  },
  {
   "cell_type": "code",
   "execution_count": 4,
   "id": "c8ce70ad-2afb-49c8-9264-34acbe73d787",
   "metadata": {},
   "outputs": [
    {
     "name": "stdout",
     "output_type": "stream",
     "text": [
      "Hello, Alice!\n"
     ]
    }
   ],
   "source": [
    "# Definition: Functions are blocks of reusable code that perform a specific task.\n",
    "def greet(name):\n",
    "    print(\"Hello, \" + name + \"!\")\n",
    "\n",
    "greet(\"Alice\")  # Example: Calling the function greet with the argument \"Alice\""
   ]
  },
  {
   "cell_type": "code",
   "execution_count": 5,
   "id": "366a7c76-fa0c-48a3-8044-f5422edd2b20",
   "metadata": {},
   "outputs": [],
   "source": [
    "# Definition: Lists are ordered and mutable collections in Python.\n",
    "numbers = [1, 2, 3, 4, 5]  # Example: Creating a list of numbers\n",
    "fruits = [\"apple\", \"orange\", \"banana\"]  # Example: Creating a list of strings"
   ]
  },
  {
   "cell_type": "code",
   "execution_count": 6,
   "id": "2a84c207-a208-4fda-a445-f3efce689a5b",
   "metadata": {},
   "outputs": [],
   "source": [
    "# Definition: Tuples are ordered and immutable collections.\n",
    "coordinates = (3, 4)  # Example: Creating a tuple with coordinates\n",
    "colors = (\"red\", \"green\", \"blue\")  # Example: Creating a tuple of colors"
   ]
  },
  {
   "cell_type": "code",
   "execution_count": 7,
   "id": "4af03093-11d5-4e48-813d-d365eccd7f0e",
   "metadata": {},
   "outputs": [],
   "source": [
    "# Definition: Dictionaries are unordered collections of key-value pairs.\n",
    "person = {\"name\": \"John\", \"age\": 30, \"city\": \"New York\"}  # Example: Creating a dictionary"
   ]
  },
  {
   "cell_type": "code",
   "execution_count": 8,
   "id": "986599f8-2691-40e9-810e-9097ccc75da5",
   "metadata": {},
   "outputs": [
    {
     "name": "stdout",
     "output_type": "stream",
     "text": [
      "C:\\Users\\DELL\\IA2\n"
     ]
    }
   ],
   "source": [
    "# Definition: The os module provides a way to interact with the operating system.\n",
    "import os\n",
    "current_directory = os.getcwd()  # Example: Getting the current working directory\n",
    "print(current_directory)"
   ]
  },
  {
   "cell_type": "code",
   "execution_count": 9,
   "id": "7d858143-cb77-4bb7-9485-8f2ca36b489d",
   "metadata": {},
   "outputs": [
    {
     "name": "stdout",
     "output_type": "stream",
     "text": [
      "5.0\n"
     ]
    }
   ],
   "source": [
    "# Definition: The math module provides mathematical functions and constants.\n",
    "import math\n",
    "result = math.sqrt(25)  # Example: Calculating the square root using math.sqrt()\n",
    "print(result)\n"
   ]
  },
  {
   "cell_type": "code",
   "execution_count": 10,
   "id": "542bb193-c43c-43cf-a3b8-14043f57cc79",
   "metadata": {},
   "outputs": [
    {
     "name": "stdout",
     "output_type": "stream",
     "text": [
      "7\n"
     ]
    }
   ],
   "source": [
    "# Definition: The random module is used for generating random numbers.\n",
    "import random\n",
    "random_number = random.randint(1, 10)  # Example: Generating a random integer between 1 and 10\n",
    "print(random_number)"
   ]
  },
  {
   "cell_type": "code",
   "execution_count": 11,
   "id": "3190d829-2978-4de2-ab60-e2bfc05969ee",
   "metadata": {},
   "outputs": [
    {
     "name": "stdout",
     "output_type": "stream",
     "text": [
      "['This', 'is', 'a', 'sample', 'sentence']\n"
     ]
    }
   ],
   "source": [
    "# Definition: The re module stands for regular expressions.\n",
    "import re\n",
    "pattern = re.compile(r'\\b\\w+\\b')  # Example: Using a regular expression pattern\n",
    "result = pattern.findall(\"This is a sample sentence.\")\n",
    "print(result)"
   ]
  },
  {
   "cell_type": "code",
   "execution_count": 12,
   "id": "9c4584eb-fb9d-493d-ac3f-539e1520bbdd",
   "metadata": {},
   "outputs": [
    {
     "name": "stdout",
     "output_type": "stream",
     "text": [
      "1D List: [1, 2, 3]\n"
     ]
    }
   ],
   "source": [
    "# Create Lists (Arrays)\n",
    "# Definition: Lists can be used as a basic alternative to arrays in Python.\n",
    "list_1d = [1, 2, 3]  # Creating a 1D list\n",
    "\n",
    "# Execution\n",
    "print(\"1D List:\", list_1d)"
   ]
  },
  {
   "cell_type": "code",
   "execution_count": 13,
   "id": "b57e10d4-b07b-42c3-84f4-fe1222fd0108",
   "metadata": {},
   "outputs": [
    {
     "name": "stdout",
     "output_type": "stream",
     "text": [
      "2D List:\n",
      "[1, 2, 3]\n",
      "[4, 5, 6]\n"
     ]
    }
   ],
   "source": [
    "# Definition: Creating a 2D list\n",
    "list_2d = [[1, 2, 3], [4, 5, 6]]\n",
    "\n",
    "\n",
    "print(\"2D List:\")\n",
    "for row in list_2d:\n",
    "    print(row)"
   ]
  },
  {
   "cell_type": "code",
   "execution_count": 14,
   "id": "ec766f60-3a72-4734-a9ca-44686613ec0c",
   "metadata": {},
   "outputs": [
    {
     "name": "stdout",
     "output_type": "stream",
     "text": [
      "Indexed Element: 2\n"
     ]
    }
   ],
   "source": [
    "# Indexing Lists\n",
    "# Definition: Accessing elements or sublists within a list using index or slicing.\n",
    "element = list_1d[1]  # Accessing elements in a 1D list\n",
    "\n",
    "\n",
    "print(\"Indexed Element:\", element)"
   ]
  },
  {
   "cell_type": "code",
   "execution_count": 15,
   "id": "378365ce-06ff-4bf6-8aa6-96ba6c4f9e37",
   "metadata": {},
   "outputs": [
    {
     "name": "stdout",
     "output_type": "stream",
     "text": [
      "Scaled List: [2, 4, 6]\n",
      "Sum List:\n",
      "[11, 22, 33]\n",
      "[14, 25, 36]\n"
     ]
    }
   ],
   "source": [
    "# Broadcasting (with Loops)\n",
    "# Definition: Achieving broadcasting-like behavior using loops with lists.\n",
    "scaled_list = [x * 2 for x in list_1d]  # Broadcasting with a scalar\n",
    "\n",
    "# Execution\n",
    "print(\"Scaled List:\", scaled_list)\n",
    "\n",
    "# Definition: Broadcasting with lists of different shapes using loops\n",
    "sum_list = [[x + y for x, y in zip(row, [10, 20, 30])] for row in list_2d]\n",
    "\n",
    "# Execution\n",
    "print(\"Sum List:\")\n",
    "for row in sum_list:\n",
    "    print(row)"
   ]
  },
  {
   "cell_type": "code",
   "execution_count": 16,
   "id": "b36585d9-e750-4711-a000-ee1acc318bcf",
   "metadata": {},
   "outputs": [
    {
     "name": "stdout",
     "output_type": "stream",
     "text": [
      "Copied List: [1, 2, 3]\n"
     ]
    }
   ],
   "source": [
    "# Copy (Deep Copy)\n",
    "# Definition: Creating a deep copy of a list.\n",
    "list_copy = list_1d.copy()  # Creating a copy of a list\n",
    "\n",
    "# Execution\n",
    "print(\"Copied List:\", list_copy)"
   ]
  },
  {
   "cell_type": "code",
   "execution_count": 17,
   "id": "dd3df9c3-4cee-4951-825a-f27c23f814cd",
   "metadata": {},
   "outputs": [
    {
     "name": "stdout",
     "output_type": "stream",
     "text": [
      "Viewed List:\n",
      "[1, 2, 3]\n",
      "[4, 5, 6]\n"
     ]
    }
   ],
   "source": [
    "# View (Shallow Copy)\n",
    "# Definition: Creating a shallow copy (view) of a list.\n",
    "list_view = list_2d[:]  # Creating a view of a list\n",
    "\n",
    "# Execution\n",
    "print(\"Viewed List:\")\n",
    "for row in list_view:\n",
    "    print(row)"
   ]
  },
  {
   "cell_type": "code",
   "execution_count": 18,
   "id": "203220c1-6d01-454e-996c-1601cb781f89",
   "metadata": {},
   "outputs": [],
   "source": [
    "import numpy as np\n",
    "\n",
    "def backpropagation(X, Y, W1, b1, W2, b2, learning_rate):\n",
    "    # Forward pass\n",
    "    z1 = np.dot(W1, X) + b1\n",
    "    a1 = sigmoid(z1)\n",
    "    z2 = np.dot(W2, a1) + b2\n",
    "    y_pred = sigmoid(z2)\n",
    "    \n",
    "    # Compute error\n",
    "    error = y_pred - Y\n",
    "    \n",
    "    # Backward pass\n",
    "    delta2 = error * sigmoid_derivative(y_pred)\n",
    "    delta1 = np.dot(W2.T, delta2) * sigmoid_derivative(z1)\n",
    "    \n",
    "    # Update weights and biases\n",
    "    W2 -= learning_rate * np.dot(delta2, a1.T)\n",
    "    b2 -= learning_rate * np.sum(delta2, axis=1, keepdims=True)\n",
    "    W1 -= learning_rate * np.dot(delta1, X.T)\n",
    "    b1 -= learning_rate * np.sum(delta1, axis=1, keepdims=True)\n",
    "    \n",
    "    return W1, b1, W2, b2\n",
    "\n",
    "# Assurez-vous d'avoir défini les fonctions sigmoid et sigmoid_derivative\n",
    "\n",
    "# Exemple d'utilisation dans la fonction train_neural_network\n",
    "def train_neural_network(X, Y, input_size, hidden_size, output_size, learning_rate, num_epochs):\n",
    "    W1, b1 = initialize_parameters(input_size, hidden_size)\n",
    "    W2, b2 = initialize_parameters(hidden_size, output_size)\n",
    "    \n",
    "    for epoch in range(num_epochs):\n",
    "        W1, b1, W2, b2 = backpropagation(X, Y, W1, b1, W2, b2, learning_rate)\n",
    "    \n",
    "    return W1, b1, W2, b2"
   ]
  },
  {
   "cell_type": "code",
   "execution_count": 19,
   "id": "f89e58e3-0053-4734-9f1b-92627b5e8008",
   "metadata": {},
   "outputs": [
    {
     "name": "stdout",
     "output_type": "stream",
     "text": [
      "Updated Weights:\n",
      " [[0.90133947 0.98526504]\n",
      " [0.67583191 0.80019285]\n",
      " [0.57791879 0.59439384]]\n",
      "Updated Biases:\n",
      " [[0.65531487]\n",
      " [0.61283904]\n",
      " [0.91376406]]\n"
     ]
    }
   ],
   "source": [
    "import numpy as np\n",
    "\n",
    "def update_weights(learning_rate, error_term, input_values, weights, biases):\n",
    "    # Compute weight update\n",
    "    delta_weights = learning_rate * np.outer(error_term, input_values)\n",
    "    \n",
    "    # Update weights\n",
    "    updated_weights = weights + delta_weights\n",
    "    \n",
    "    # Compute bias update\n",
    "    delta_bias = learning_rate * error_term\n",
    "    \n",
    "    # Update biases\n",
    "    updated_biases = biases + delta_bias.reshape(-1, 1)\n",
    "    \n",
    "    return updated_weights, updated_biases\n",
    "\n",
    "# Exemple d'utilisation\n",
    "learning_rate = 0.01\n",
    "error_term = np.array([0.1, 0.2, 0.3])\n",
    "input_values = np.array([1, 2])\n",
    "weights_old = np.random.rand(3, 2)  \n",
    "biases_old = np.random.rand(3, 1)  \n",
    "\n",
    "updated_weights, updated_biases = update_weights(learning_rate, error_term, input_values, weights_old, biases_old)\n",
    "\n",
    "print(\"Updated Weights:\\n\", updated_weights)\n",
    "print(\"Updated Biases:\\n\", updated_biases)"
   ]
  },
  {
   "cell_type": "code",
   "execution_count": 20,
   "id": "4f2ce5f6-21ec-4b2d-9a27-6e9e70a4b248",
   "metadata": {},
   "outputs": [
    {
     "name": "stdout",
     "output_type": "stream",
     "text": [
      "Output Layer Error: [0.002 0.004 0.006]\n",
      "Hidden Layer Error: [[0.00203441 0.01186067 0.01374801]\n",
      " [0.00396273 0.00659158 0.01334443]]\n"
     ]
    }
   ],
   "source": [
    "import numpy as np\n",
    "\n",
    "def compute_error(xi, yt, error, W, is_output_layer=True):\n",
    "    if is_output_layer:\n",
    "        # Compute error for the output layer\n",
    "        ei = xi * (1 - yt) * error\n",
    "        return ei\n",
    "    else:\n",
    "        # Compute error for a hidden layer\n",
    "        ek_i = xi * (1 - xi) * np.dot(W.T, error)\n",
    "        return ek_i\n",
    "\n",
    "# Example usage\n",
    "xi = np.array([0.1, 0.2, 0.3])  # Replace with your actual input\n",
    "yt = 0.8  # Replace with your actual target output\n",
    "error = 0.1  # Replace with your actual error\n",
    "W = np.random.rand(3, 2)  # Replace with your actual weights\n",
    "\n",
    "# Assuming it's the output layer\n",
    "output_layer_error = compute_error(xi, yt, error, W, is_output_layer=True)\n",
    "print(\"Output Layer Error:\", output_layer_error)\n",
    "\n",
    "# Assuming it's a hidden layer\n",
    "hidden_layer_error = compute_error(xi, yt, error, W, is_output_layer=False)\n",
    "print(\"Hidden Layer Error:\", hidden_layer_error)"
   ]
  },
  {
   "cell_type": "code",
   "execution_count": null,
   "id": "d31c78ea-455b-401a-9830-15f0f5a26d5c",
   "metadata": {},
   "outputs": [],
   "source": []
  }
 ],
 "metadata": {
  "kernelspec": {
   "display_name": "env_AI2",
   "language": "python",
   "name": "env_ai2"
  },
  "language_info": {
   "codemirror_mode": {
    "name": "ipython",
    "version": 3
   },
   "file_extension": ".py",
   "mimetype": "text/x-python",
   "name": "python",
   "nbconvert_exporter": "python",
   "pygments_lexer": "ipython3",
   "version": "3.12.2"
  }
 },
 "nbformat": 4,
 "nbformat_minor": 5
}
