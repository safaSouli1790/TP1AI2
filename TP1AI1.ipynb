{
 "cells": [
  {
   "cell_type": "code",
   "execution_count": 2,
   "id": "b75b74fb-9a16-4791-bdb2-ac4cd6798fd1",
   "metadata": {},
   "outputs": [
    {
     "name": "stdout",
     "output_type": "stream",
     "text": [
      "Votre âge est : 25\n"
     ]
    }
   ],
   "source": [
    "# Definition: Variables are used to store and manage data in a program.\n",
    "age = 25\n",
    "print(\"Votre âge est :\", age)\n"
   ]
  },
  {
   "cell_type": "code",
   "execution_count": 3,
   "id": "a5b3ee27-835d-4a88-a56f-57087e948d6c",
   "metadata": {},
   "outputs": [
    {
     "name": "stdout",
     "output_type": "stream",
     "text": [
      "You are an adult.\n"
     ]
    }
   ],
   "source": [
    "# Definition: Conditions are used to make decisions in a program.\n",
    "age = 25\n",
    "if age >= 18:\n",
    "    print(\"You are an adult.\")\n",
    "else:\n",
    "    print(\"You are a minor.\")\n"
   ]
  },
  {
   "cell_type": "code",
   "execution_count": 5,
   "id": "a45ca9a6-b43b-4071-933a-f5cc7caaaaf8",
   "metadata": {},
   "outputs": [
    {
     "name": "stdout",
     "output_type": "stream",
     "text": [
      "pomme\n",
      "banane\n",
      "orange\n",
      "1\n",
      "2\n",
      "3\n",
      "4\n",
      "5\n"
     ]
    }
   ],
   "source": [
    "# Boucle for pour itérer sur une liste\n",
    "fruits = [\"pomme\", \"banane\", \"orange\"]\n",
    "for fruit in fruits:\n",
    "    print(fruit)\n",
    "\n",
    "# Boucle while pour exécuter un bloc de code tant qu'une condition est vraie\n",
    "num = 1\n",
    "while num <= 5:\n",
    "    print(num)\n",
    "    num += 1"
   ]
  },
  {
   "cell_type": "code",
   "execution_count": 1,
   "id": "14d70ac4-83c3-4781-b147-c299fa2f062d",
   "metadata": {},
   "outputs": [
    {
     "name": "stdout",
     "output_type": "stream",
     "text": [
      "Hello, Alice!\n"
     ]
    }
   ],
   "source": [
    "# Definition: Functions are blocks of reusable code that perform a specific task.\n",
    "def greet(name):\n",
    "    print(\"Hello, \" + name + \"!\")\n",
    "\n",
    "greet(\"Alice\")  # Example: Calling the function greet with the argument \"Alice\"\n"
   ]
  },
  {
   "cell_type": "code",
   "execution_count": 2,
   "id": "831f0348-af03-401b-b688-ea4218dfb0ab",
   "metadata": {},
   "outputs": [],
   "source": [
    "# Definition: Lists are ordered and mutable collections in Python.\n",
    "numbers = [1, 2, 3, 4, 5]  # Example: Creating a list of numbers\n",
    "fruits = [\"apple\", \"orange\", \"banana\"]  # Example: Creating a list of strings\n"
   ]
  },
  {
   "cell_type": "code",
   "execution_count": 3,
   "id": "7b417308-645f-405d-a29c-c20649e882f9",
   "metadata": {},
   "outputs": [],
   "source": [
    "# Definition: Tuples are ordered and immutable collections.\n",
    "coordinates = (3, 4)  # Example: Creating a tuple with coordinates\n",
    "colors = (\"red\", \"green\", \"blue\")  # Example: Creating a tuple of colors\n"
   ]
  },
  {
   "cell_type": "code",
   "execution_count": 4,
   "id": "57e191ea-dfa4-4e09-83f1-2818c7f5b8a3",
   "metadata": {},
   "outputs": [],
   "source": [
    "# Definition: Dictionaries are unordered collections of key-value pairs.\n",
    "person = {\"name\": \"John\", \"age\": 30, \"city\": \"New York\"}  # Example: Creating a dictionary\n"
   ]
  },
  {
   "cell_type": "code",
   "execution_count": 5,
   "id": "4121d1c0-7398-4f94-94a1-6fce75fe7f90",
   "metadata": {},
   "outputs": [
    {
     "name": "stdout",
     "output_type": "stream",
     "text": [
      "C:\\Users\\DELL\n"
     ]
    }
   ],
   "source": [
    "# Definition: The os module provides a way to interact with the operating system.\n",
    "import os\n",
    "current_directory = os.getcwd()  # Example: Getting the current working directory\n",
    "print(current_directory)\n"
   ]
  },
  {
   "cell_type": "code",
   "execution_count": 6,
   "id": "6eabf7b9-f779-48a6-914b-62ddc250d387",
   "metadata": {},
   "outputs": [
    {
     "name": "stdout",
     "output_type": "stream",
     "text": [
      "5.0\n"
     ]
    }
   ],
   "source": [
    "# Definition: The math module provides mathematical functions and constants.\n",
    "import math\n",
    "result = math.sqrt(25)  # Example: Calculating the square root using math.sqrt()\n",
    "print(result)\n"
   ]
  },
  {
   "cell_type": "code",
   "execution_count": 7,
   "id": "366ef8c7-18d1-4f42-86e6-7998eb2eea9d",
   "metadata": {},
   "outputs": [
    {
     "name": "stdout",
     "output_type": "stream",
     "text": [
      "4\n"
     ]
    }
   ],
   "source": [
    "# Definition: The random module is used for generating random numbers.\n",
    "import random\n",
    "random_number = random.randint(1, 10)  # Example: Generating a random integer between 1 and 10\n",
    "print(random_number)\n"
   ]
  },
  {
   "cell_type": "code",
   "execution_count": 8,
   "id": "1c045631-036f-41f8-ae00-880a44f7ac73",
   "metadata": {},
   "outputs": [
    {
     "name": "stdout",
     "output_type": "stream",
     "text": [
      "['This', 'is', 'a', 'sample', 'sentence']\n"
     ]
    }
   ],
   "source": [
    "# Definition: The re module stands for regular expressions.\n",
    "import re\n",
    "pattern = re.compile(r'\\b\\w+\\b')  # Example: Using a regular expression pattern\n",
    "result = pattern.findall(\"This is a sample sentence.\")\n",
    "print(result)\n"
   ]
  },
  {
   "cell_type": "code",
   "execution_count": 5,
   "id": "bd75e953-cda1-4f95-862e-6a5f5020ef81",
   "metadata": {},
   "outputs": [
    {
     "name": "stdout",
     "output_type": "stream",
     "text": [
      "1D List: [1, 2, 3]\n"
     ]
    }
   ],
   "source": [
    "# Create Lists (Arrays)\n",
    "# Definition: Lists can be used as a basic alternative to arrays in Python.\n",
    "list_1d = [1, 2, 3]  # Creating a 1D list\n",
    "\n",
    "# Execution\n",
    "print(\"1D List:\", list_1d)"
   ]
  },
  {
   "cell_type": "code",
   "execution_count": 6,
   "id": "81e1d7f7-ce9e-4cc6-9f7c-a4ce434272da",
   "metadata": {},
   "outputs": [
    {
     "name": "stdout",
     "output_type": "stream",
     "text": [
      "2D List:\n",
      "[1, 2, 3]\n",
      "[4, 5, 6]\n"
     ]
    }
   ],
   "source": [
    "# Definition: Creating a 2D list\n",
    "list_2d = [[1, 2, 3], [4, 5, 6]]\n",
    "\n",
    "\n",
    "print(\"2D List:\")\n",
    "for row in list_2d:\n",
    "    print(row)\n"
   ]
  },
  {
   "cell_type": "code",
   "execution_count": 7,
   "id": "3c84312e-b113-4578-b04e-f26dde02002f",
   "metadata": {},
   "outputs": [
    {
     "name": "stdout",
     "output_type": "stream",
     "text": [
      "Indexed Element: 2\n"
     ]
    }
   ],
   "source": [
    "# Indexing Lists\n",
    "# Definition: Accessing elements or sublists within a list using index or slicing.\n",
    "element = list_1d[1]  # Accessing elements in a 1D list\n",
    "\n",
    "\n",
    "print(\"Indexed Element:\", element)"
   ]
  },
  {
   "cell_type": "code",
   "execution_count": 8,
   "id": "f6e663b8-1365-49ad-8ae3-e686bedfa916",
   "metadata": {},
   "outputs": [
    {
     "name": "stdout",
     "output_type": "stream",
     "text": [
      "Scaled List: [2, 4, 6]\n",
      "Sum List:\n",
      "[11, 22, 33]\n",
      "[14, 25, 36]\n"
     ]
    }
   ],
   "source": [
    "# Broadcasting (with Loops)\n",
    "# Definition: Achieving broadcasting-like behavior using loops with lists.\n",
    "scaled_list = [x * 2 for x in list_1d]  # Broadcasting with a scalar\n",
    "\n",
    "# Execution\n",
    "print(\"Scaled List:\", scaled_list)\n",
    "\n",
    "# Definition: Broadcasting with lists of different shapes using loops\n",
    "sum_list = [[x + y for x, y in zip(row, [10, 20, 30])] for row in list_2d]\n",
    "\n",
    "# Execution\n",
    "print(\"Sum List:\")\n",
    "for row in sum_list:\n",
    "    print(row)"
   ]
  },
  {
   "cell_type": "code",
   "execution_count": 9,
   "id": "1bd53db8-547c-471d-a4ea-2964620872ab",
   "metadata": {},
   "outputs": [
    {
     "name": "stdout",
     "output_type": "stream",
     "text": [
      "Copied List: [1, 2, 3]\n"
     ]
    }
   ],
   "source": [
    "# Copy (Deep Copy)\n",
    "# Definition: Creating a deep copy of a list.\n",
    "list_copy = list_1d.copy()  # Creating a copy of a list\n",
    "\n",
    "# Execution\n",
    "print(\"Copied List:\", list_copy)"
   ]
  },
  {
   "cell_type": "code",
   "execution_count": 10,
   "id": "d41d3e9d-c150-4f6c-b143-bc177611e12c",
   "metadata": {},
   "outputs": [
    {
     "name": "stdout",
     "output_type": "stream",
     "text": [
      "Viewed List:\n",
      "[1, 2, 3]\n",
      "[4, 5, 6]\n"
     ]
    }
   ],
   "source": [
    "# View (Shallow Copy)\n",
    "# Definition: Creating a shallow copy (view) of a list.\n",
    "list_view = list_2d[:]  # Creating a view of a list\n",
    "\n",
    "# Execution\n",
    "print(\"Viewed List:\")\n",
    "for row in list_view:\n",
    "    print(row)"
   ]
  },
  {
   "cell_type": "code",
   "execution_count": null,
   "id": "0f339986-f5c1-4cb5-85e7-97e455402f88",
   "metadata": {},
   "outputs": [],
   "source": []
  }
 ],
 "metadata": {
  "kernelspec": {
   "display_name": "env_AI2",
   "language": "python",
   "name": "env_ai2"
  },
  "language_info": {
   "codemirror_mode": {
    "name": "ipython",
    "version": 3
   },
   "file_extension": ".py",
   "mimetype": "text/x-python",
   "name": "python",
   "nbconvert_exporter": "python",
   "pygments_lexer": "ipython3",
   "version": "3.12.2"
  }
 },
 "nbformat": 4,
 "nbformat_minor": 5
}
